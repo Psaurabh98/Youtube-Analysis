{
 "cells": [
  {
   "cell_type": "code",
   "execution_count": null,
   "id": "cf4bd749-9a48-402f-9c09-62e68b93c957",
   "metadata": {},
   "outputs": [],
   "source": [
    "pip install google-api-python-client"
   ]
  },
  {
   "cell_type": "code",
   "execution_count": null,
   "id": "c24d03bd-1c49-4865-b035-335cb1e23848",
   "metadata": {},
   "outputs": [],
   "source": [
    "###Importing neccessary modules\n",
    "\n",
    "from googleapiclient.discovery import build\n",
    "import pandas as pd\n",
    "import json"
   ]
  },
  {
   "cell_type": "code",
   "execution_count": null,
   "id": "4541b660-a0d4-4766-abb5-08acd9d1ae05",
   "metadata": {},
   "outputs": [],
   "source": [
    "###Credentials for connecting to youtube for fetching data\n",
    "\n",
    "api_key=\"###\"\n",
    "api_service_name = \"##\"\n",
    "api_version = \"##\"\n",
    "\n",
    "###channel ids of different channels of youtube\n",
    "channel_id=[\"UCk7NcgnqCmui1AV7MTXZwOw\",'UCnz-ZXXER4jOvuED5trXfEA',\t'UCbTggJVf0NDTfWX-C_gUGSg','UCLXHSvxpM4U1lbTzeXycqrA','UCChmJrVa8kDg05JfCmxpLRw','UC7cs8q-gJRlGwj4A8OmCmXg','UCAq9f7jFEA7Mtl3qOZy2h1A','UCeVMnSShP_Iviwkknt83cww','UCacvJAgrPTjSEdnZObMzpqQ']"
   ]
  },
  {
   "cell_type": "code",
   "execution_count": null,
   "id": "3f0b3753-8b02-4e10-96f2-6bb25b98d203",
   "metadata": {},
   "outputs": [],
   "source": [
    "youtube=build(api_service_name,api_version,developerKey=api_key)"
   ]
  },
  {
   "cell_type": "code",
   "execution_count": null,
   "id": "a47208bd-c545-4e83-933d-29942bb6dc74",
   "metadata": {},
   "outputs": [],
   "source": [
    "### creating list of neccesaary data\n",
    "\n",
    "Data=[]\n",
    "\n",
    "for i in channel_id:\n",
    "\n",
    "    request=youtube.channels().list(part='snippet,contentDetails,statistics',id=i)\n",
    "    response=request.execute()\n",
    "    data=dict(Channel_Id=i,Channel_name=response['items'][0]['snippet']['title'],\n",
    "              Published_at=response['items'][0]['snippet']['publishedAt'],\n",
    "              Video_count=response['items'][0]['statistics']['videoCount'],\n",
    "              View_count=response['items'][0]['statistics']['viewCount'] ,\n",
    "              Subscriber_count=response['items'][0]['statistics']['subscriberCount'],\n",
    "              Playlist_id=response['items'][0]['contentDetails']['relatedPlaylists']['uploads'])\n",
    "    Data.append(data)"
   ]
  },
  {
   "cell_type": "code",
   "execution_count": null,
   "id": "af41b928-acfb-405d-bdb5-5d53f8b56414",
   "metadata": {},
   "outputs": [],
   "source": [
    "###converting list to dataframe\n",
    "\n",
    "df=pd.DataFrame(Data)"
   ]
  },
  {
   "cell_type": "code",
   "execution_count": null,
   "id": "014e35ca-3328-4076-91d1-0a1abc69fa9b",
   "metadata": {},
   "outputs": [],
   "source": [
    "## changing datatypes as per requirement\n",
    "\n",
    "df['Video_count']=df['Video_count'].astype(int)\n",
    "df['View_count']=df['View_count'].astype(int)\n",
    "df['Subscriber_count']=df['Subscriber_count'].astype(int)\n"
   ]
  },
  {
   "cell_type": "code",
   "execution_count": null,
   "id": "8ec16780-ebe7-482b-b1a6-f088daecc4b4",
   "metadata": {},
   "outputs": [],
   "source": [
    "df['Published_at']=pd.to_datetime (df['Published_at'],format='ISO8601')"
   ]
  },
  {
   "cell_type": "code",
   "execution_count": null,
   "id": "0688a4b1-7c7e-4690-a4e7-c5bad4d58877",
   "metadata": {},
   "outputs": [],
   "source": [
    "import boto3"
   ]
  },
  {
   "cell_type": "code",
   "execution_count": null,
   "id": "5695feaf-b29f-4a55-9762-3d38a7715108",
   "metadata": {},
   "outputs": [],
   "source": [
    "##credentials for connecting to S3\n",
    "\n",
    "s3 = boto3.client(\n",
    "    's3',\n",
    "    aws_access_key_id='#####',\n",
    "    aws_secret_access_key='###',\n",
    "    region_name='###'\n",
    ")"
   ]
  },
  {
   "cell_type": "code",
   "execution_count": null,
   "id": "f6fbcf1c-3093-45a3-8a72-e0ff8313c8bc",
   "metadata": {},
   "outputs": [],
   "source": [
    "###Uploading the data to S3 \n",
    "\n",
    "from io import BytesIO\n",
    "import io\n",
    "\n",
    "\"\"\"buffer = BytesIO()\n",
    "df.to_parquet(buffer, index=False)\n",
    "buffer.seek(0)\"\"\"\n",
    "csv_buffer = io.StringIO()\n",
    "df.to_csv(csv_buffer, index=False)\n",
    "\n",
    "s3.put_object(Bucket='sp-yt-analysis', Key='input files/Channel_overview.csv', Body=csv_buffer.getvalue())\n"
   ]
  },
  {
   "cell_type": "code",
   "execution_count": null,
   "id": "56abcc7f-2914-4984-954b-e4d3d849d40e",
   "metadata": {},
   "outputs": [],
   "source": [
    "playlist_id=df['Playlist_id'].tolist()"
   ]
  },
  {
   "cell_type": "code",
   "execution_count": null,
   "id": "dd9db68e-d42d-4b01-90eb-0cca23f8c3f9",
   "metadata": {},
   "outputs": [],
   "source": [
    "\n",
    "### creating list of data\n",
    "VID=[]\n",
    "for m in playlist_id:\n",
    "\n",
    "\n",
    "\n",
    "\n",
    "    req=youtube.playlistItems().list(part='contentDetails',playlistId=m,maxResults=50)\n",
    "    resp=req.execute()\n",
    "    for i in range(len(resp['items'])):\n",
    "                  Dt=dict(Playlist_id=m,Video_id=resp['items'][i]['contentDetails']['videoId'],\n",
    "                  Video_published_at=resp['items'][i]['contentDetails']['videoPublishedAt'] )\n",
    "                  VID.append(Dt)\n",
    "                 \n",
    "    next_page_token=resp.get('nextPageToken')\n",
    "    More_pages=True\n",
    "    while More_pages:\n",
    "         if next_page_token is None :\n",
    "            More_pages=False\n",
    "         else :\n",
    "             req=youtube.playlistItems().list(part='contentDetails',playlistId=m,maxResults=50,pageToken=next_page_token)\n",
    "             resp=req.execute()\n",
    "             for i in range(len(resp['items'])):\n",
    "                  Dt=dict(Playlist_id=m,Video_id=resp['items'][i]['contentDetails']['videoId'],\n",
    "                  Video_published_at=resp['items'][i]['contentDetails']['videoPublishedAt'] )\n",
    "                  VID.append(Dt)\n",
    "             \n",
    "             next_page_token=resp.get('nextPageToken')\n",
    "    \n"
   ]
  },
  {
   "cell_type": "code",
   "execution_count": null,
   "id": "a7c92294-85d5-4259-aecf-d2140e383003",
   "metadata": {},
   "outputs": [],
   "source": [
    "\n",
    "###converting list to dataframe\n",
    "df1=pd.DataFrame(VID)"
   ]
  },
  {
   "cell_type": "code",
   "execution_count": null,
   "id": "d46897d7-ced2-416b-9d6c-5e2d90f2ce88",
   "metadata": {},
   "outputs": [],
   "source": [
    "## changing datatypes as per requirement\n",
    "df1['Video_published_at']=pd.to_datetime (df1['Video_published_at'],format='ISO8601')"
   ]
  },
  {
   "cell_type": "code",
   "execution_count": null,
   "id": "44987459-d179-4109-b0b8-db207bd78097",
   "metadata": {},
   "outputs": [],
   "source": [
    "\"\"\"buffer = BytesIO()\n",
    "df1.to_parquet(buffer, index=False)\n",
    "buffer.seek(0)\"\"\"\n",
    " ###Uploading the data to S3 \n",
    "import io\n",
    "csv_buffer = io.StringIO()\n",
    "df1.to_csv(csv_buffer, index=False)\n",
    "\n",
    "s3.put_object(Bucket='sp-yt-analysis', Key='input files/Playlist_overview.csv', Body=csv_buffer.getvalue())"
   ]
  },
  {
   "cell_type": "code",
   "execution_count": null,
   "id": "74f970b1-e8c7-427b-95bd-997168be0a9c",
   "metadata": {},
   "outputs": [],
   "source": []
  }
 ],
 "metadata": {
  "kernelspec": {
   "display_name": "Python [conda env:base] *",
   "language": "python",
   "name": "conda-base-py"
  },
  "language_info": {
   "codemirror_mode": {
    "name": "ipython",
    "version": 3
   },
   "file_extension": ".py",
   "mimetype": "text/x-python",
   "name": "python",
   "nbconvert_exporter": "python",
   "pygments_lexer": "ipython3",
   "version": "3.12.7"
  }
 },
 "nbformat": 4,
 "nbformat_minor": 5
}
